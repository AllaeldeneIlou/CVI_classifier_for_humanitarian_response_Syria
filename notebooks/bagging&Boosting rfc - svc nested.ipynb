{
 "cells": [
  {
   "cell_type": "code",
   "execution_count": 5,
   "id": "DE9KvEew9r2U",
   "metadata": {
    "colab": {
     "base_uri": "https://localhost:8080/"
    },
    "executionInfo": {
     "elapsed": 6285,
     "status": "ok",
     "timestamp": 1739394060793,
     "user": {
      "displayName": "Ghiath Al Jebawi",
      "userId": "08766058550796542068"
     },
     "user_tz": -60
    },
    "id": "DE9KvEew9r2U",
    "outputId": "f1afabbd-8b7c-40ba-91aa-412749eb8505"
   },
   "outputs": [
    {
     "name": "stdout",
     "output_type": "stream",
     "text": [
      "Collecting scikit-optimize\n",
      "  Downloading scikit_optimize-0.10.2-py2.py3-none-any.whl.metadata (9.7 kB)\n",
      "Requirement already satisfied: joblib>=0.11 in /usr/local/lib/python3.11/dist-packages (from scikit-optimize) (1.4.2)\n",
      "Collecting pyaml>=16.9 (from scikit-optimize)\n",
      "  Downloading pyaml-25.1.0-py3-none-any.whl.metadata (12 kB)\n",
      "Requirement already satisfied: numpy>=1.20.3 in /usr/local/lib/python3.11/dist-packages (from scikit-optimize) (1.26.4)\n",
      "Requirement already satisfied: scipy>=1.1.0 in /usr/local/lib/python3.11/dist-packages (from scikit-optimize) (1.13.1)\n",
      "Requirement already satisfied: scikit-learn>=1.0.0 in /usr/local/lib/python3.11/dist-packages (from scikit-optimize) (1.6.1)\n",
      "Requirement already satisfied: packaging>=21.3 in /usr/local/lib/python3.11/dist-packages (from scikit-optimize) (24.2)\n",
      "Requirement already satisfied: PyYAML in /usr/local/lib/python3.11/dist-packages (from pyaml>=16.9->scikit-optimize) (6.0.2)\n",
      "Requirement already satisfied: threadpoolctl>=3.1.0 in /usr/local/lib/python3.11/dist-packages (from scikit-learn>=1.0.0->scikit-optimize) (3.5.0)\n",
      "Downloading scikit_optimize-0.10.2-py2.py3-none-any.whl (107 kB)\n",
      "\u001b[2K   \u001b[90m━━━━━━━━━━━━━━━━━━━━━━━━━━━━━━━━━━━━━━━━\u001b[0m \u001b[32m107.8/107.8 kB\u001b[0m \u001b[31m2.7 MB/s\u001b[0m eta \u001b[36m0:00:00\u001b[0m\n",
      "\u001b[?25hDownloading pyaml-25.1.0-py3-none-any.whl (26 kB)\n",
      "Installing collected packages: pyaml, scikit-optimize\n",
      "Successfully installed pyaml-25.1.0 scikit-optimize-0.10.2\n"
     ]
    }
   ],
   "source": [
    "# !pip install scikit-optimize\n",
    "\n",
    "# Mount Google Drive (for Google Colab)\n",
    "#from google.colab import drive\n",
    "#drive.mount('/content/drive')\n"
   ]
  },
  {
   "cell_type": "code",
   "execution_count": 1,
   "id": "40f617ec-a6a3-4723-9107-56dc49aaf5b8",
   "metadata": {
    "executionInfo": {
     "elapsed": 1596,
     "status": "ok",
     "timestamp": 1739394065910,
     "user": {
      "displayName": "Ghiath Al Jebawi",
      "userId": "08766058550796542068"
     },
     "user_tz": -60
    },
    "id": "40f617ec-a6a3-4723-9107-56dc49aaf5b8"
   },
   "outputs": [],
   "source": [
    "import pandas as pd\n",
    "import numpy as np\n",
    "import matplotlib.pyplot as plt\n",
    "import seaborn as sns\n",
    "\n",
    "from sklearn.preprocessing import MinMaxScaler\n",
    "from sklearn.model_selection import train_test_split\n",
    "from sklearn.preprocessing import StandardScaler\n",
    "\n",
    "# imports for model selection and grid search\n",
    "from sklearn.model_selection import GridSearchCV, RandomizedSearchCV\n",
    "from skopt import BayesSearchCV\n",
    "from skopt.space import Real, Integer\n",
    "\n",
    "from sklearn.multioutput import MultiOutputClassifier\n",
    "from sklearn.svm import SVC\n",
    "from sklearn.svm import LinearSVC\n",
    "from sklearn.ensemble import RandomForestClassifier\n",
    "from sklearn.ensemble import AdaBoostClassifier\n",
    "from sklearn.ensemble import BaggingClassifier\n",
    "\n",
    "from sklearn.metrics import hamming_loss, accuracy_score, f1_score, classification_report"
   ]
  },
  {
   "cell_type": "code",
   "execution_count": 2,
   "id": "OMKXKjLX9F3C",
   "metadata": {
    "colab": {
     "base_uri": "https://localhost:8080/"
    },
    "executionInfo": {
     "elapsed": 27457,
     "status": "ok",
     "timestamp": 1739393944600,
     "user": {
      "displayName": "Ghiath Al Jebawi",
      "userId": "08766058550796542068"
     },
     "user_tz": -60
    },
    "id": "OMKXKjLX9F3C",
    "outputId": "1cb1d28a-e1ee-4635-8da4-fb339443b6db"
   },
   "outputs": [
    {
     "name": "stdout",
     "output_type": "stream",
     "text": [
      "Mounted at /content/drive\n"
     ]
    }
   ],
   "source": [
    "# Update file path to match Google Drive directory structure\n",
    "#file_path = '/content/drive/MyDrive/learning and projects/DS/project/data_to_ML_model.csv'\n",
    "#df = pd.read_csv(file_path, delimiter=\",\", low_memory=False)"
   ]
  },
  {
   "cell_type": "code",
   "execution_count": 2,
   "id": "cd8972b8-37e8-46da-9216-731fb34aff30",
   "metadata": {
    "executionInfo": {
     "elapsed": 6532,
     "status": "ok",
     "timestamp": 1739393960984,
     "user": {
      "displayName": "Ghiath Al Jebawi",
      "userId": "08766058550796542068"
     },
     "user_tz": -60
    },
    "id": "cd8972b8-37e8-46da-9216-731fb34aff30"
   },
   "outputs": [],
   "source": [
    "# Read the CSV file\n",
    "\n",
    "file_path = r'C:\\Users\\ghiat\\My Drive\\learning and projects\\DS\\project\\data_to_ML_model.csv'\n",
    "\n",
    "df = pd.read_csv(file_path, delimiter=\",\", low_memory=False)"
   ]
  },
  {
   "cell_type": "code",
   "execution_count": 3,
   "id": "2c145af3-1cfc-4583-b873-dedc7d6a53bf",
   "metadata": {
    "colab": {
     "base_uri": "https://localhost:8080/",
     "height": 394
    },
    "executionInfo": {
     "elapsed": 268,
     "status": "ok",
     "timestamp": 1739393974543,
     "user": {
      "displayName": "Ghiath Al Jebawi",
      "userId": "08766058550796542068"
     },
     "user_tz": -60
    },
    "id": "2c145af3-1cfc-4583-b873-dedc7d6a53bf",
    "outputId": "a31115e2-ac01-403d-d9be-9fdc04440223"
   },
   "outputs": [
    {
     "data": {
      "text/html": [
       "<div>\n",
       "<style scoped>\n",
       "    .dataframe tbody tr th:only-of-type {\n",
       "        vertical-align: middle;\n",
       "    }\n",
       "\n",
       "    .dataframe tbody tr th {\n",
       "        vertical-align: top;\n",
       "    }\n",
       "\n",
       "    .dataframe thead th {\n",
       "        text-align: right;\n",
       "    }\n",
       "</style>\n",
       "<table border=\"1\" class=\"dataframe\">\n",
       "  <thead>\n",
       "    <tr style=\"text-align: right;\">\n",
       "      <th></th>\n",
       "      <th>Returnees reported in the community</th>\n",
       "      <th>Three most common IDP shelter types - Solid finished apartment</th>\n",
       "      <th>Three most common IDP shelter types - Unfinished or abandoned residential building</th>\n",
       "      <th>Three most common IDP shelter types - Damaged residential building</th>\n",
       "      <th>Three most common IDP shelter types - Non residential structure with one family</th>\n",
       "      <th>Three most common IDP shelter types - Collective center with more than one family</th>\n",
       "      <th>Three most common IDP shelter types - Tent</th>\n",
       "      <th>Proportion of IDPs living in overcrowded shelters</th>\n",
       "      <th>IDP shelter inadequacies - Lack of lighting inside shelter</th>\n",
       "      <th>IDP shelter inadequacies - Lack of lighting around shelter</th>\n",
       "      <th>...</th>\n",
       "      <th>Livelihood support</th>\n",
       "      <th>Education</th>\n",
       "      <th>WASH</th>\n",
       "      <th>Winterisation</th>\n",
       "      <th>Legal services</th>\n",
       "      <th>GBV services</th>\n",
       "      <th>CP services</th>\n",
       "      <th>Explosive hazard risk awareness or removal of explosive contamination</th>\n",
       "      <th>Mental health psychological support</th>\n",
       "      <th>Cash assistance vouchers or cash in hand</th>\n",
       "    </tr>\n",
       "  </thead>\n",
       "  <tbody>\n",
       "    <tr>\n",
       "      <th>0</th>\n",
       "      <td>0.0</td>\n",
       "      <td>0.0</td>\n",
       "      <td>1.0</td>\n",
       "      <td>0.0</td>\n",
       "      <td>0.0</td>\n",
       "      <td>0.0</td>\n",
       "      <td>0.0</td>\n",
       "      <td>0.0</td>\n",
       "      <td>0.0</td>\n",
       "      <td>1.0</td>\n",
       "      <td>...</td>\n",
       "      <td>0.0</td>\n",
       "      <td>0.0</td>\n",
       "      <td>0.0</td>\n",
       "      <td>0.0</td>\n",
       "      <td>0.0</td>\n",
       "      <td>0.0</td>\n",
       "      <td>0.0</td>\n",
       "      <td>0.0</td>\n",
       "      <td>0.0</td>\n",
       "      <td>1.0</td>\n",
       "    </tr>\n",
       "    <tr>\n",
       "      <th>1</th>\n",
       "      <td>0.0</td>\n",
       "      <td>0.0</td>\n",
       "      <td>0.0</td>\n",
       "      <td>0.0</td>\n",
       "      <td>0.0</td>\n",
       "      <td>0.0</td>\n",
       "      <td>0.0</td>\n",
       "      <td>0.0</td>\n",
       "      <td>0.0</td>\n",
       "      <td>1.0</td>\n",
       "      <td>...</td>\n",
       "      <td>0.0</td>\n",
       "      <td>0.0</td>\n",
       "      <td>0.0</td>\n",
       "      <td>0.0</td>\n",
       "      <td>0.0</td>\n",
       "      <td>0.0</td>\n",
       "      <td>0.0</td>\n",
       "      <td>0.0</td>\n",
       "      <td>0.0</td>\n",
       "      <td>0.0</td>\n",
       "    </tr>\n",
       "    <tr>\n",
       "      <th>2</th>\n",
       "      <td>0.0</td>\n",
       "      <td>0.0</td>\n",
       "      <td>1.0</td>\n",
       "      <td>0.0</td>\n",
       "      <td>0.0</td>\n",
       "      <td>0.0</td>\n",
       "      <td>0.0</td>\n",
       "      <td>0.0</td>\n",
       "      <td>0.0</td>\n",
       "      <td>0.0</td>\n",
       "      <td>...</td>\n",
       "      <td>0.0</td>\n",
       "      <td>0.0</td>\n",
       "      <td>0.0</td>\n",
       "      <td>0.0</td>\n",
       "      <td>0.0</td>\n",
       "      <td>0.0</td>\n",
       "      <td>0.0</td>\n",
       "      <td>0.0</td>\n",
       "      <td>0.0</td>\n",
       "      <td>0.0</td>\n",
       "    </tr>\n",
       "    <tr>\n",
       "      <th>3</th>\n",
       "      <td>0.0</td>\n",
       "      <td>0.0</td>\n",
       "      <td>1.0</td>\n",
       "      <td>0.0</td>\n",
       "      <td>0.0</td>\n",
       "      <td>0.0</td>\n",
       "      <td>0.0</td>\n",
       "      <td>0.0</td>\n",
       "      <td>0.0</td>\n",
       "      <td>1.0</td>\n",
       "      <td>...</td>\n",
       "      <td>0.0</td>\n",
       "      <td>0.0</td>\n",
       "      <td>0.0</td>\n",
       "      <td>0.0</td>\n",
       "      <td>0.0</td>\n",
       "      <td>0.0</td>\n",
       "      <td>0.0</td>\n",
       "      <td>0.0</td>\n",
       "      <td>0.0</td>\n",
       "      <td>0.0</td>\n",
       "    </tr>\n",
       "    <tr>\n",
       "      <th>4</th>\n",
       "      <td>1.0</td>\n",
       "      <td>0.0</td>\n",
       "      <td>0.0</td>\n",
       "      <td>0.0</td>\n",
       "      <td>0.0</td>\n",
       "      <td>0.0</td>\n",
       "      <td>0.0</td>\n",
       "      <td>0.4</td>\n",
       "      <td>1.0</td>\n",
       "      <td>1.0</td>\n",
       "      <td>...</td>\n",
       "      <td>0.0</td>\n",
       "      <td>0.0</td>\n",
       "      <td>0.0</td>\n",
       "      <td>0.0</td>\n",
       "      <td>0.0</td>\n",
       "      <td>0.0</td>\n",
       "      <td>0.0</td>\n",
       "      <td>0.0</td>\n",
       "      <td>0.0</td>\n",
       "      <td>0.0</td>\n",
       "    </tr>\n",
       "  </tbody>\n",
       "</table>\n",
       "<p>5 rows × 513 columns</p>\n",
       "</div>"
      ],
      "text/plain": [
       "   Returnees reported in the community  \\\n",
       "0                                  0.0   \n",
       "1                                  0.0   \n",
       "2                                  0.0   \n",
       "3                                  0.0   \n",
       "4                                  1.0   \n",
       "\n",
       "   Three most common IDP shelter types - Solid finished apartment  \\\n",
       "0                                                0.0                \n",
       "1                                                0.0                \n",
       "2                                                0.0                \n",
       "3                                                0.0                \n",
       "4                                                0.0                \n",
       "\n",
       "   Three most common IDP shelter types - Unfinished or abandoned residential building  \\\n",
       "0                                                1.0                                    \n",
       "1                                                0.0                                    \n",
       "2                                                1.0                                    \n",
       "3                                                1.0                                    \n",
       "4                                                0.0                                    \n",
       "\n",
       "   Three most common IDP shelter types - Damaged residential building  \\\n",
       "0                                                0.0                    \n",
       "1                                                0.0                    \n",
       "2                                                0.0                    \n",
       "3                                                0.0                    \n",
       "4                                                0.0                    \n",
       "\n",
       "   Three most common IDP shelter types - Non residential structure with one family  \\\n",
       "0                                                0.0                                 \n",
       "1                                                0.0                                 \n",
       "2                                                0.0                                 \n",
       "3                                                0.0                                 \n",
       "4                                                0.0                                 \n",
       "\n",
       "   Three most common IDP shelter types - Collective center with more than one family  \\\n",
       "0                                                0.0                                   \n",
       "1                                                0.0                                   \n",
       "2                                                0.0                                   \n",
       "3                                                0.0                                   \n",
       "4                                                0.0                                   \n",
       "\n",
       "   Three most common IDP shelter types - Tent  \\\n",
       "0                                         0.0   \n",
       "1                                         0.0   \n",
       "2                                         0.0   \n",
       "3                                         0.0   \n",
       "4                                         0.0   \n",
       "\n",
       "   Proportion of IDPs living in overcrowded shelters  \\\n",
       "0                                                0.0   \n",
       "1                                                0.0   \n",
       "2                                                0.0   \n",
       "3                                                0.0   \n",
       "4                                                0.4   \n",
       "\n",
       "   IDP shelter inadequacies - Lack of lighting inside shelter  \\\n",
       "0                                                0.0            \n",
       "1                                                0.0            \n",
       "2                                                0.0            \n",
       "3                                                0.0            \n",
       "4                                                1.0            \n",
       "\n",
       "   IDP shelter inadequacies - Lack of lighting around shelter  ...  \\\n",
       "0                                                1.0           ...   \n",
       "1                                                1.0           ...   \n",
       "2                                                0.0           ...   \n",
       "3                                                1.0           ...   \n",
       "4                                                1.0           ...   \n",
       "\n",
       "   Livelihood support  Education  WASH  Winterisation  Legal services  \\\n",
       "0                 0.0        0.0   0.0            0.0             0.0   \n",
       "1                 0.0        0.0   0.0            0.0             0.0   \n",
       "2                 0.0        0.0   0.0            0.0             0.0   \n",
       "3                 0.0        0.0   0.0            0.0             0.0   \n",
       "4                 0.0        0.0   0.0            0.0             0.0   \n",
       "\n",
       "   GBV services  CP services  \\\n",
       "0           0.0          0.0   \n",
       "1           0.0          0.0   \n",
       "2           0.0          0.0   \n",
       "3           0.0          0.0   \n",
       "4           0.0          0.0   \n",
       "\n",
       "   Explosive hazard risk awareness or removal of explosive contamination  \\\n",
       "0                                                0.0                       \n",
       "1                                                0.0                       \n",
       "2                                                0.0                       \n",
       "3                                                0.0                       \n",
       "4                                                0.0                       \n",
       "\n",
       "   Mental health psychological support  \\\n",
       "0                                  0.0   \n",
       "1                                  0.0   \n",
       "2                                  0.0   \n",
       "3                                  0.0   \n",
       "4                                  0.0   \n",
       "\n",
       "   Cash assistance vouchers or cash in hand  \n",
       "0                                       1.0  \n",
       "1                                       0.0  \n",
       "2                                       0.0  \n",
       "3                                       0.0  \n",
       "4                                       0.0  \n",
       "\n",
       "[5 rows x 513 columns]"
      ]
     },
     "execution_count": 3,
     "metadata": {},
     "output_type": "execute_result"
    }
   ],
   "source": [
    "df.head()"
   ]
  },
  {
   "cell_type": "code",
   "execution_count": 4,
   "id": "3f1941e5",
   "metadata": {
    "executionInfo": {
     "elapsed": 226,
     "status": "ok",
     "timestamp": 1739394076612,
     "user": {
      "displayName": "Ghiath Al Jebawi",
      "userId": "08766058550796542068"
     },
     "user_tz": -60
    },
    "id": "3f1941e5"
   },
   "outputs": [],
   "source": [
    "target_columns = [\n",
    "    \"Shelter\",\n",
    "    \"Health\",\n",
    "    \"NFIs\",\n",
    "    \"Electricity assistance\",\n",
    "    \"Food, nutrition\",\n",
    "    \"Agricultural supplies\",\n",
    "    \"Livelihood support\",\n",
    "    \"Education\",\n",
    "    \"WASH\",\n",
    "    \"Winterisation\",\n",
    "    \"Legal services\",\n",
    "    \"GBV services\",\n",
    "    \"CP services\",\n",
    "    \"Explosive hazard risk awareness or removal of explosive contamination\",\n",
    "    \"Mental health psychological support\",\n",
    "    \"Cash assistance vouchers or cash in hand\"\n",
    "]"
   ]
  },
  {
   "cell_type": "code",
   "execution_count": 5,
   "id": "78490add-59c5-40b5-9354-4eb66bde63f0",
   "metadata": {
    "executionInfo": {
     "elapsed": 209,
     "status": "ok",
     "timestamp": 1739394080302,
     "user": {
      "displayName": "Ghiath Al Jebawi",
      "userId": "08766058550796542068"
     },
     "user_tz": -60
    },
    "id": "78490add-59c5-40b5-9354-4eb66bde63f0"
   },
   "outputs": [],
   "source": [
    "# Extract the target DataFrame\n",
    "target = df[target_columns]\n",
    "\n",
    "# df_feature = df.drop(columns=target.columns)\n",
    "df_feature = df.drop(target_columns, axis=1)"
   ]
  },
  {
   "cell_type": "code",
   "execution_count": 6,
   "id": "b450301e",
   "metadata": {
    "colab": {
     "base_uri": "https://localhost:8080/"
    },
    "executionInfo": {
     "elapsed": 238,
     "status": "ok",
     "timestamp": 1739394082578,
     "user": {
      "displayName": "Ghiath Al Jebawi",
      "userId": "08766058550796542068"
     },
     "user_tz": -60
    },
    "id": "b450301e",
    "outputId": "3fbd2bbb-eb7c-411d-ae54-406b4d3632ca"
   },
   "outputs": [
    {
     "name": "stdout",
     "output_type": "stream",
     "text": [
      "Shelter Shelter\n",
      "0.0    0.99\n",
      "1.0    0.01\n",
      "Name: proportion, dtype: float64\n",
      "Health Health\n",
      "0.0    0.76\n",
      "1.0    0.24\n",
      "Name: proportion, dtype: float64\n",
      "NFIs NFIs\n",
      "0.0    0.99\n",
      "1.0    0.01\n",
      "Name: proportion, dtype: float64\n",
      "Electricity assistance Electricity assistance\n",
      "0.0    0.99\n",
      "1.0    0.01\n",
      "Name: proportion, dtype: float64\n",
      "Food, nutrition Food, nutrition\n",
      "0.0    0.57\n",
      "1.0    0.43\n",
      "Name: proportion, dtype: float64\n",
      "Agricultural supplies Agricultural supplies\n",
      "0.0    0.99\n",
      "1.0    0.01\n",
      "Name: proportion, dtype: float64\n",
      "Livelihood support Livelihood support\n",
      "0.0    0.98\n",
      "1.0    0.02\n",
      "Name: proportion, dtype: float64\n",
      "Education Education\n",
      "0.0    0.97\n",
      "1.0    0.03\n",
      "Name: proportion, dtype: float64\n",
      "WASH WASH\n",
      "0.0    0.85\n",
      "1.0    0.15\n",
      "Name: proportion, dtype: float64\n",
      "Winterisation Winterisation\n",
      "0.0    0.98\n",
      "1.0    0.02\n",
      "Name: proportion, dtype: float64\n",
      "Legal services Legal services\n",
      "0.0    0.99\n",
      "1.0    0.01\n",
      "Name: proportion, dtype: float64\n",
      "GBV services GBV services\n",
      "0.0    1.0\n",
      "1.0    0.0\n",
      "Name: proportion, dtype: float64\n",
      "CP services CP services\n",
      "0.0    0.99\n",
      "1.0    0.01\n",
      "Name: proportion, dtype: float64\n",
      "Explosive hazard risk awareness or removal of explosive contamination Explosive hazard risk awareness or removal of explosive contamination\n",
      "0.0    1.0\n",
      "1.0    0.0\n",
      "Name: proportion, dtype: float64\n",
      "Mental health psychological support Mental health psychological support\n",
      "0.0    0.99\n",
      "1.0    0.01\n",
      "Name: proportion, dtype: float64\n",
      "Cash assistance vouchers or cash in hand Cash assistance vouchers or cash in hand\n",
      "0.0    0.87\n",
      "1.0    0.13\n",
      "Name: proportion, dtype: float64\n"
     ]
    }
   ],
   "source": [
    "for i in target.columns:\n",
    "    print (i,target[i].value_counts(normalize=True).round(2))"
   ]
  },
  {
   "cell_type": "code",
   "execution_count": 7,
   "id": "49ff21a6-0446-4911-aa9c-c645f88b51fd",
   "metadata": {
    "executionInfo": {
     "elapsed": 204,
     "status": "ok",
     "timestamp": 1739394088544,
     "user": {
      "displayName": "Ghiath Al Jebawi",
      "userId": "08766058550796542068"
     },
     "user_tz": -60
    },
    "id": "49ff21a6-0446-4911-aa9c-c645f88b51fd"
   },
   "outputs": [],
   "source": [
    "X_train, X_test, Y_train, Y_test = train_test_split(df_feature, target, test_size=0.2, random_state=1234)"
   ]
  },
  {
   "cell_type": "markdown",
   "id": "47322132-9a97-41a6-8ec1-383a0b69846d",
   "metadata": {
    "id": "47322132-9a97-41a6-8ec1-383a0b69846d"
   },
   "source": [
    "# Random Forest"
   ]
  },
  {
   "cell_type": "code",
   "execution_count": 8,
   "id": "onz7w318gt3E",
   "metadata": {
    "colab": {
     "base_uri": "https://localhost:8080/"
    },
    "id": "onz7w318gt3E",
    "outputId": "3404ae41-2bda-4569-fc04-737dd122b173"
   },
   "outputs": [
    {
     "name": "stdout",
     "output_type": "stream",
     "text": [
      "Boosting of Bagging RandomForest - Evaluation Metrics:\n",
      "Hamming Loss: 0.022254291356524382\n",
      "Exact Match Accuracy: 0.7514810876500075\n",
      "Classification Report:\n",
      "                                                                       precision    recall  f1-score   support\n",
      "\n",
      "                                                              Shelter       1.00      0.06      0.12        31\n",
      "                                                               Health       0.94      0.88      0.91      1638\n",
      "                                                                 NFIs       1.00      0.13      0.24        67\n",
      "                                               Electricity assistance       1.00      0.33      0.50        45\n",
      "                                                      Food, nutrition       0.90      0.92      0.91      2862\n",
      "                                                Agricultural supplies       0.00      0.00      0.00        47\n",
      "                                                   Livelihood support       0.79      0.15      0.26       125\n",
      "                                                            Education       0.93      0.59      0.72       174\n",
      "                                                                 WASH       0.91      0.61      0.73      1018\n",
      "                                                        Winterisation       0.79      0.23      0.36       129\n",
      "                                                       Legal services       0.96      0.86      0.91        81\n",
      "                                                         GBV services       0.00      0.00      0.00        31\n",
      "                                                          CP services       0.91      0.17      0.28        60\n",
      "Explosive hazard risk awareness or removal of explosive contamination       0.00      0.00      0.00        24\n",
      "                                  Mental health psychological support       1.00      0.23      0.37        40\n",
      "                             Cash assistance vouchers or cash in hand       0.88      0.52      0.66       828\n",
      "\n",
      "                                                            micro avg       0.91      0.75      0.82      7200\n",
      "                                                            macro avg       0.75      0.36      0.44      7200\n",
      "                                                         weighted avg       0.90      0.75      0.80      7200\n",
      "                                                          samples avg       0.49      0.45      0.45      7200\n",
      "\n"
     ]
    }
   ],
   "source": [
    "# Create a nested ensemble: AdaBoost (boosting) of Bagging (bagging) of RandomForest\n",
    "nested_rf = MultiOutputClassifier(\n",
    "    AdaBoostClassifier(\n",
    "        estimator=BaggingClassifier(\n",
    "            estimator=RandomForestClassifier(random_state=1234, n_estimators=100, n_jobs=-1, class_weight='balanced'),\n",
    "            n_estimators=10,\n",
    "            random_state=1234\n",
    "        ),\n",
    "        n_estimators=50,\n",
    "        random_state=1234,\n",
    "        algorithm='SAMME'\n",
    "    )\n",
    ")\n",
    "\n",
    "# Fit the model with training data\n",
    "nested_rf.fit(X_train, Y_train)\n",
    "\n",
    "# Predict and evaluate on the test set\n",
    "Y_pred_rf = nested_rf.predict(X_test)\n",
    "print(\"Boosting of Bagging RandomForest - Evaluation Metrics:\")\n",
    "print(f\"Hamming Loss: {hamming_loss(Y_test, Y_pred_rf)}\")\n",
    "print(f\"Exact Match Accuracy: {accuracy_score(Y_test, Y_pred_rf)}\")\n",
    "print(\"Classification Report:\")\n",
    "print(classification_report(Y_test, Y_pred_rf, target_names=target_columns, zero_division=0))"
   ]
  },
  {
   "cell_type": "code",
   "execution_count": 9,
   "id": "aac682f1-92bf-4063-82f7-12dabbb95898",
   "metadata": {
    "id": "aac682f1-92bf-4063-82f7-12dabbb95898"
   },
   "outputs": [
    {
     "name": "stdout",
     "output_type": "stream",
     "text": [
      "Samples with no true labels: 2739\n",
      "Samples with no predicted labels: 3084\n"
     ]
    }
   ],
   "source": [
    "print(\"Samples with no true labels:\", (Y_test.sum(axis=1) == 0).sum())\n",
    "print(\"Samples with no predicted labels:\", (Y_pred_rf.sum(axis=1) == 0).sum())"
   ]
  },
  {
   "cell_type": "markdown",
   "id": "ac08e7b3-223d-4cf0-ba17-f18d59092c3a",
   "metadata": {
    "id": "ac08e7b3-223d-4cf0-ba17-f18d59092c3a"
   },
   "source": [
    "# Support Vector Machine"
   ]
  },
  {
   "cell_type": "code",
   "execution_count": 12,
   "id": "JIZb1mKD-ZCl",
   "metadata": {
    "colab": {
     "base_uri": "https://localhost:8080/"
    },
    "executionInfo": {
     "elapsed": 1955543,
     "status": "ok",
     "timestamp": 1739403684711,
     "user": {
      "displayName": "Ghiath Al Jebawi",
      "userId": "08766058550796542068"
     },
     "user_tz": -60
    },
    "id": "JIZb1mKD-ZCl",
    "outputId": "e8c9e132-39e6-434e-cfa6-0c9383d02044"
   },
   "outputs": [
    {
     "name": "stderr",
     "output_type": "stream",
     "text": [
      "/usr/local/lib/python3.11/dist-packages/sklearn/ensemble/_weight_boosting.py:519: FutureWarning: The parameter 'algorithm' is deprecated in 1.6 and has no effect. It will be removed in version 1.8.\n",
      "  warnings.warn(\n",
      "/usr/local/lib/python3.11/dist-packages/sklearn/ensemble/_weight_boosting.py:519: FutureWarning: The parameter 'algorithm' is deprecated in 1.6 and has no effect. It will be removed in version 1.8.\n",
      "  warnings.warn(\n",
      "/usr/local/lib/python3.11/dist-packages/sklearn/ensemble/_weight_boosting.py:519: FutureWarning: The parameter 'algorithm' is deprecated in 1.6 and has no effect. It will be removed in version 1.8.\n",
      "  warnings.warn(\n",
      "/usr/local/lib/python3.11/dist-packages/sklearn/ensemble/_weight_boosting.py:519: FutureWarning: The parameter 'algorithm' is deprecated in 1.6 and has no effect. It will be removed in version 1.8.\n",
      "  warnings.warn(\n",
      "/usr/local/lib/python3.11/dist-packages/sklearn/ensemble/_weight_boosting.py:519: FutureWarning: The parameter 'algorithm' is deprecated in 1.6 and has no effect. It will be removed in version 1.8.\n",
      "  warnings.warn(\n",
      "/usr/local/lib/python3.11/dist-packages/sklearn/ensemble/_weight_boosting.py:519: FutureWarning: The parameter 'algorithm' is deprecated in 1.6 and has no effect. It will be removed in version 1.8.\n",
      "  warnings.warn(\n",
      "/usr/local/lib/python3.11/dist-packages/sklearn/ensemble/_weight_boosting.py:519: FutureWarning: The parameter 'algorithm' is deprecated in 1.6 and has no effect. It will be removed in version 1.8.\n",
      "  warnings.warn(\n",
      "/usr/local/lib/python3.11/dist-packages/sklearn/ensemble/_weight_boosting.py:519: FutureWarning: The parameter 'algorithm' is deprecated in 1.6 and has no effect. It will be removed in version 1.8.\n",
      "  warnings.warn(\n",
      "/usr/local/lib/python3.11/dist-packages/sklearn/ensemble/_weight_boosting.py:519: FutureWarning: The parameter 'algorithm' is deprecated in 1.6 and has no effect. It will be removed in version 1.8.\n",
      "  warnings.warn(\n",
      "/usr/local/lib/python3.11/dist-packages/sklearn/ensemble/_weight_boosting.py:519: FutureWarning: The parameter 'algorithm' is deprecated in 1.6 and has no effect. It will be removed in version 1.8.\n",
      "  warnings.warn(\n",
      "/usr/local/lib/python3.11/dist-packages/sklearn/ensemble/_weight_boosting.py:519: FutureWarning: The parameter 'algorithm' is deprecated in 1.6 and has no effect. It will be removed in version 1.8.\n",
      "  warnings.warn(\n",
      "/usr/local/lib/python3.11/dist-packages/sklearn/ensemble/_weight_boosting.py:519: FutureWarning: The parameter 'algorithm' is deprecated in 1.6 and has no effect. It will be removed in version 1.8.\n",
      "  warnings.warn(\n",
      "/usr/local/lib/python3.11/dist-packages/sklearn/ensemble/_weight_boosting.py:519: FutureWarning: The parameter 'algorithm' is deprecated in 1.6 and has no effect. It will be removed in version 1.8.\n",
      "  warnings.warn(\n",
      "/usr/local/lib/python3.11/dist-packages/sklearn/ensemble/_weight_boosting.py:519: FutureWarning: The parameter 'algorithm' is deprecated in 1.6 and has no effect. It will be removed in version 1.8.\n",
      "  warnings.warn(\n",
      "/usr/local/lib/python3.11/dist-packages/sklearn/ensemble/_weight_boosting.py:519: FutureWarning: The parameter 'algorithm' is deprecated in 1.6 and has no effect. It will be removed in version 1.8.\n",
      "  warnings.warn(\n",
      "/usr/local/lib/python3.11/dist-packages/sklearn/ensemble/_weight_boosting.py:519: FutureWarning: The parameter 'algorithm' is deprecated in 1.6 and has no effect. It will be removed in version 1.8.\n",
      "  warnings.warn(\n"
     ]
    },
    {
     "name": "stdout",
     "output_type": "stream",
     "text": [
      "Boosting of Bagging SVM - Evaluation Metrics:\n",
      "Hamming Loss: 0.07052255810420781\n",
      "Exact Match Accuracy: 0.5053926781102841\n",
      "Classification Report:\n",
      "                                                                       precision    recall  f1-score   support\n",
      "\n",
      "                                                              Shelter       0.06      0.68      0.10        31\n",
      "                                                               Health       0.80      0.76      0.78      1638\n",
      "                                                                 NFIs       0.05      0.61      0.09        67\n",
      "                                               Electricity assistance       0.19      0.73      0.30        45\n",
      "                                                      Food, nutrition       0.82      0.90      0.86      2862\n",
      "                                                Agricultural supplies       0.04      0.49      0.07        47\n",
      "                                                   Livelihood support       0.17      0.74      0.28       125\n",
      "                                                            Education       0.27      0.80      0.40       174\n",
      "                                                                 WASH       0.50      0.82      0.62      1018\n",
      "                                                        Winterisation       0.17      0.84      0.29       129\n",
      "                                                       Legal services       0.82      0.89      0.85        81\n",
      "                                                         GBV services       0.16      0.68      0.26        31\n",
      "                                                          CP services       0.15      0.77      0.25        60\n",
      "Explosive hazard risk awareness or removal of explosive contamination       0.10      0.67      0.17        24\n",
      "                                  Mental health psychological support       0.26      0.82      0.40        40\n",
      "                             Cash assistance vouchers or cash in hand       0.48      0.65      0.55       828\n",
      "\n",
      "                                                            micro avg       0.49      0.81      0.61      7200\n",
      "                                                            macro avg       0.31      0.74      0.39      7200\n",
      "                                                         weighted avg       0.66      0.81      0.71      7200\n",
      "                                                          samples avg       0.32      0.47      0.36      7200\n",
      "\n"
     ]
    }
   ],
   "source": [
    "# Create a nested ensemble: AdaBoost (boosting) of Bagging (bagging) of LinearSVC (SVM)\n",
    "nested_model = MultiOutputClassifier(\n",
    "    AdaBoostClassifier(\n",
    "        estimator=BaggingClassifier(\n",
    "            estimator=LinearSVC(random_state=1234, C=1.0, max_iter=5000, class_weight='balanced'),\n",
    "            n_estimators=10, random_state=1234),\n",
    "        n_estimators=50, random_state=1234, algorithm='SAMME'\n",
    "    )\n",
    ")\n",
    "\n",
    "# Fit the model with training data\n",
    "nested_model.fit(X_train, Y_train)\n",
    "\n",
    "# Predict and evaluate on the test set\n",
    "Y_pred = nested_model.predict(X_test)\n",
    "print(\"Boosting of Bagging SVM - Evaluation Metrics:\")\n",
    "print(f\"Hamming Loss: {hamming_loss(Y_test, Y_pred)}\")\n",
    "print(f\"Exact Match Accuracy: {accuracy_score(Y_test, Y_pred)}\")\n",
    "print(\"Classification Report:\")\n",
    "print(classification_report(Y_test, Y_pred, target_names=target_columns, zero_division=0))"
   ]
  },
  {
   "cell_type": "code",
   "execution_count": 14,
   "id": "42447d29",
   "metadata": {
    "colab": {
     "base_uri": "https://localhost:8080/"
    },
    "executionInfo": {
     "elapsed": 2,
     "status": "ok",
     "timestamp": 1739403904386,
     "user": {
      "displayName": "Ghiath Al Jebawi",
      "userId": "08766058550796542068"
     },
     "user_tz": -60
    },
    "id": "42447d29",
    "outputId": "06fab396-1fee-47b9-942d-ca3c4c859643"
   },
   "outputs": [
    {
     "name": "stdout",
     "output_type": "stream",
     "text": [
      "Samples with no true labels: 2739\n",
      "Samples with no predicted labels: 2643\n"
     ]
    }
   ],
   "source": [
    "print(\"Samples with no true labels:\", (Y_test.sum(axis=1) == 0).sum())\n",
    "print(\"Samples with no predicted labels:\", (Y_pred.sum(axis=1) == 0).sum())"
   ]
  },
  {
   "cell_type": "code",
   "execution_count": null,
   "id": "Ue6ONaEajUMF",
   "metadata": {
    "id": "Ue6ONaEajUMF"
   },
   "outputs": [],
   "source": []
  }
 ],
 "metadata": {
  "colab": {
   "provenance": []
  },
  "kernelspec": {
   "display_name": "Python (ds_env)",
   "language": "python",
   "name": "ds_env"
  },
  "language_info": {
   "codemirror_mode": {
    "name": "ipython",
    "version": 3
   },
   "file_extension": ".py",
   "mimetype": "text/x-python",
   "name": "python",
   "nbconvert_exporter": "python",
   "pygments_lexer": "ipython3",
   "version": "3.10.16"
  }
 },
 "nbformat": 4,
 "nbformat_minor": 5
}
